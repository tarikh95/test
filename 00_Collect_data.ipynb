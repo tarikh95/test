{
 "cells": [
  {
   "cell_type": "markdown",
   "id": "154ce7ee",
   "metadata": {},
   "source": [
    "Change to the directory that the analysis is carried out"
   ]
  },
  {
   "cell_type": "code",
   "execution_count": null,
   "id": "30f907f6",
   "metadata": {},
   "outputs": [],
   "source": [
    "%cd ../data"
   ]
  },
  {
   "cell_type": "markdown",
   "id": "3b90750f",
   "metadata": {},
   "source": [
    "Collect the results from all the data"
   ]
  },
  {
   "cell_type": "code",
   "execution_count": null,
   "id": "7e37f6d3",
   "metadata": {},
   "outputs": [],
   "source": [
    "!../bin/aggregate_res.sh"
   ]
  }
 ],
 "metadata": {
  "kernelspec": {
   "display_name": "Python 3 (ipykernel)",
   "language": "python",
   "name": "python3"
  },
  "language_info": {
   "codemirror_mode": {
    "name": "ipython",
    "version": 3
   },
   "file_extension": ".py",
   "mimetype": "text/x-python",
   "name": "python",
   "nbconvert_exporter": "python",
   "pygments_lexer": "ipython3",
   "version": "3.9.5"
  }
 },
 "nbformat": 4,
 "nbformat_minor": 5
}
